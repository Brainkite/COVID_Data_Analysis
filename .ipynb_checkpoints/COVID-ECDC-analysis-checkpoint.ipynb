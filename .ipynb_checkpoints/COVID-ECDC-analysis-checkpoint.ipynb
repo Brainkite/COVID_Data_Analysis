{
 "cells": [
  {
   "cell_type": "code",
   "execution_count": 15,
   "metadata": {
    "Collapsed": "false"
   },
   "outputs": [],
   "source": [
    "import pandas as pd\n",
    "from pathlib import Path\n",
    "import numpy as np\n",
    "import seaborn as sns\n",
    "import matplotlib.pyplot as plt\n",
    "%matplotlib widget\n",
    "Path.ls = lambda x: list(x.iterdir())"
   ]
  },
  {
   "cell_type": "markdown",
   "metadata": {
    "Collapsed": "false"
   },
   "source": [
    "# ECDC Data"
   ]
  },
  {
   "cell_type": "code",
   "execution_count": 2,
   "metadata": {
    "Collapsed": "false"
   },
   "outputs": [
    {
     "data": {
      "text/plain": [
       "[PosixPath('ECDC/COVID-19-geographic-disbtribution-worldwide-2020-03-20.xlsx'),\n",
       " PosixPath('ECDC/COVID-19-geographic-disbtribution-worldwide-2020-03-13.xls'),\n",
       " PosixPath('ECDC/COVID-19-geographic-disbtribution-worldwide-2020-03-16.xls'),\n",
       " PosixPath('ECDC/COVID-19-geographic-disbtribution-worldwide-2020-03-17.xlsx'),\n",
       " PosixPath('ECDC/COVID-19-geographic-disbtribution-worldwide-2020-03-15.xls'),\n",
       " PosixPath('ECDC/COVID-19-geographic-disbtribution-worldwide-2020-03-14.xls'),\n",
       " PosixPath('ECDC/COVID-19-geographic-disbtribution-worldwide-2020-03-18.xls')]"
      ]
     },
     "execution_count": 2,
     "metadata": {},
     "output_type": "execute_result"
    }
   ],
   "source": [
    "p2 = Path('ECDC'); p2.ls()"
   ]
  },
  {
   "cell_type": "code",
   "execution_count": 3,
   "metadata": {
    "Collapsed": "false"
   },
   "outputs": [
    {
     "name": "stdout",
     "output_type": "stream",
     "text": [
      "<class 'pandas.core.frame.DataFrame'>\n",
      "RangeIndex: 5841 entries, 0 to 5840\n",
      "Data columns (total 8 columns):\n",
      "DateRep                      5841 non-null datetime64[ns]\n",
      "Day                          5841 non-null int64\n",
      "Month                        5841 non-null int64\n",
      "Year                         5841 non-null int64\n",
      "Cases                        5841 non-null int64\n",
      "Deaths                       5841 non-null int64\n",
      "Countries and territories    5841 non-null object\n",
      "GeoId                        5835 non-null object\n",
      "dtypes: datetime64[ns](1), int64(5), object(2)\n",
      "memory usage: 365.2+ KB\n"
     ]
    }
   ],
   "source": [
    "ecdc_df = pd.read_excel(p2.ls()[0])\n",
    "ecdc_df.info()"
   ]
  },
  {
   "cell_type": "code",
   "execution_count": 4,
   "metadata": {
    "Collapsed": "false"
   },
   "outputs": [
    {
     "data": {
      "text/html": [
       "<div>\n",
       "<style scoped>\n",
       "    .dataframe tbody tr th:only-of-type {\n",
       "        vertical-align: middle;\n",
       "    }\n",
       "\n",
       "    .dataframe tbody tr th {\n",
       "        vertical-align: top;\n",
       "    }\n",
       "\n",
       "    .dataframe thead th {\n",
       "        text-align: right;\n",
       "    }\n",
       "</style>\n",
       "<table border=\"1\" class=\"dataframe\">\n",
       "  <thead>\n",
       "    <tr style=\"text-align: right;\">\n",
       "      <th></th>\n",
       "      <th>DateRep</th>\n",
       "      <th>Day</th>\n",
       "      <th>Month</th>\n",
       "      <th>Year</th>\n",
       "      <th>Cases</th>\n",
       "      <th>Deaths</th>\n",
       "      <th>Countries and territories</th>\n",
       "      <th>GeoId</th>\n",
       "    </tr>\n",
       "  </thead>\n",
       "  <tbody>\n",
       "    <tr>\n",
       "      <th>0</th>\n",
       "      <td>2020-03-20</td>\n",
       "      <td>20</td>\n",
       "      <td>3</td>\n",
       "      <td>2020</td>\n",
       "      <td>0</td>\n",
       "      <td>0</td>\n",
       "      <td>Afghanistan</td>\n",
       "      <td>AF</td>\n",
       "    </tr>\n",
       "    <tr>\n",
       "      <th>1</th>\n",
       "      <td>2020-03-19</td>\n",
       "      <td>19</td>\n",
       "      <td>3</td>\n",
       "      <td>2020</td>\n",
       "      <td>0</td>\n",
       "      <td>0</td>\n",
       "      <td>Afghanistan</td>\n",
       "      <td>AF</td>\n",
       "    </tr>\n",
       "    <tr>\n",
       "      <th>2</th>\n",
       "      <td>2020-03-18</td>\n",
       "      <td>18</td>\n",
       "      <td>3</td>\n",
       "      <td>2020</td>\n",
       "      <td>1</td>\n",
       "      <td>0</td>\n",
       "      <td>Afghanistan</td>\n",
       "      <td>AF</td>\n",
       "    </tr>\n",
       "    <tr>\n",
       "      <th>3</th>\n",
       "      <td>2020-03-17</td>\n",
       "      <td>17</td>\n",
       "      <td>3</td>\n",
       "      <td>2020</td>\n",
       "      <td>5</td>\n",
       "      <td>0</td>\n",
       "      <td>Afghanistan</td>\n",
       "      <td>AF</td>\n",
       "    </tr>\n",
       "    <tr>\n",
       "      <th>4</th>\n",
       "      <td>2020-03-16</td>\n",
       "      <td>16</td>\n",
       "      <td>3</td>\n",
       "      <td>2020</td>\n",
       "      <td>6</td>\n",
       "      <td>0</td>\n",
       "      <td>Afghanistan</td>\n",
       "      <td>AF</td>\n",
       "    </tr>\n",
       "  </tbody>\n",
       "</table>\n",
       "</div>"
      ],
      "text/plain": [
       "     DateRep  Day  Month  Year  Cases  Deaths Countries and territories GeoId\n",
       "0 2020-03-20   20      3  2020      0       0               Afghanistan    AF\n",
       "1 2020-03-19   19      3  2020      0       0               Afghanistan    AF\n",
       "2 2020-03-18   18      3  2020      1       0               Afghanistan    AF\n",
       "3 2020-03-17   17      3  2020      5       0               Afghanistan    AF\n",
       "4 2020-03-16   16      3  2020      6       0               Afghanistan    AF"
      ]
     },
     "execution_count": 4,
     "metadata": {},
     "output_type": "execute_result"
    }
   ],
   "source": [
    "ecdc_df.head()"
   ]
  },
  {
   "cell_type": "code",
   "execution_count": 5,
   "metadata": {
    "Collapsed": "false"
   },
   "outputs": [],
   "source": [
    "def add_cumsum(df, country, normalize=1):\n",
    "    \n",
    "    \"\"\" Isolate country, \n",
    "        Sort rows in ascending time order \n",
    "        add a cumulative sum of the counts\"\"\"\n",
    "    tdf = df.rename({'Cases':'NewConfCases', 'Deaths':'NewDeaths'}, axis=1)\n",
    "    tdf = tdf[['DateRep', 'NewConfCases', 'NewDeaths']][tdf['Countries and territories']==country].sort_values(by='DateRep')\n",
    "    tdf[['ConfCases', 'Deaths']] = tdf[['NewConfCases', 'NewDeaths']].cumsum(axis=0)\n",
    "    tdf = tdf.set_index('DateRep')\n",
    "    return tdf"
   ]
  },
  {
   "cell_type": "code",
   "execution_count": 6,
   "metadata": {
    "Collapsed": "false"
   },
   "outputs": [
    {
     "data": {
      "text/html": [
       "<div>\n",
       "<style scoped>\n",
       "    .dataframe tbody tr th:only-of-type {\n",
       "        vertical-align: middle;\n",
       "    }\n",
       "\n",
       "    .dataframe tbody tr th {\n",
       "        vertical-align: top;\n",
       "    }\n",
       "\n",
       "    .dataframe thead th {\n",
       "        text-align: right;\n",
       "    }\n",
       "</style>\n",
       "<table border=\"1\" class=\"dataframe\">\n",
       "  <thead>\n",
       "    <tr style=\"text-align: right;\">\n",
       "      <th></th>\n",
       "      <th>NewConfCases</th>\n",
       "      <th>NewDeaths</th>\n",
       "      <th>ConfCases</th>\n",
       "      <th>Deaths</th>\n",
       "    </tr>\n",
       "    <tr>\n",
       "      <th>DateRep</th>\n",
       "      <th></th>\n",
       "      <th></th>\n",
       "      <th></th>\n",
       "      <th></th>\n",
       "    </tr>\n",
       "  </thead>\n",
       "  <tbody>\n",
       "    <tr>\n",
       "      <th>2020-03-16</th>\n",
       "      <td>6230</td>\n",
       "      <td>370</td>\n",
       "      <td>23980</td>\n",
       "      <td>1811</td>\n",
       "    </tr>\n",
       "    <tr>\n",
       "      <th>2020-03-17</th>\n",
       "      <td>4000</td>\n",
       "      <td>347</td>\n",
       "      <td>27980</td>\n",
       "      <td>2158</td>\n",
       "    </tr>\n",
       "    <tr>\n",
       "      <th>2020-03-18</th>\n",
       "      <td>3526</td>\n",
       "      <td>347</td>\n",
       "      <td>31506</td>\n",
       "      <td>2505</td>\n",
       "    </tr>\n",
       "    <tr>\n",
       "      <th>2020-03-19</th>\n",
       "      <td>4207</td>\n",
       "      <td>473</td>\n",
       "      <td>35713</td>\n",
       "      <td>2978</td>\n",
       "    </tr>\n",
       "    <tr>\n",
       "      <th>2020-03-20</th>\n",
       "      <td>5322</td>\n",
       "      <td>429</td>\n",
       "      <td>41035</td>\n",
       "      <td>3407</td>\n",
       "    </tr>\n",
       "  </tbody>\n",
       "</table>\n",
       "</div>"
      ],
      "text/plain": [
       "            NewConfCases  NewDeaths  ConfCases  Deaths\n",
       "DateRep                                               \n",
       "2020-03-16          6230        370      23980    1811\n",
       "2020-03-17          4000        347      27980    2158\n",
       "2020-03-18          3526        347      31506    2505\n",
       "2020-03-19          4207        473      35713    2978\n",
       "2020-03-20          5322        429      41035    3407"
      ]
     },
     "execution_count": 6,
     "metadata": {},
     "output_type": "execute_result"
    }
   ],
   "source": [
    "ecdc_fr = add_cumsum(ecdc_df, 'France')# 5.98\n",
    "ecdc_it = add_cumsum(ecdc_df, 'Italy')# 3.18\n",
    "ecdc_sp = add_cumsum(ecdc_df, 'Spain')# 2.97\n",
    "ecdc_ge = add_cumsum(ecdc_df, 'Germany')# 8.00\n",
    "ecdc_us = add_cumsum(ecdc_df, 'United_States_of_America')# 2.77\n",
    "ecdc_ca = add_cumsum(ecdc_df, 'Canada')# 2.52\n",
    "ecdc_it.tail()"
   ]
  },
  {
   "cell_type": "code",
   "execution_count": 7,
   "metadata": {
    "Collapsed": "false"
   },
   "outputs": [],
   "source": [
    "def tri_plot(serie, title = None, ax = None, bar_plot=True, bar_offset = None, lab=None, color=None, alpha=1, growth=False, log=False):\n",
    "    \n",
    "    \"\"\" Make a line plot of the numulated sum, \n",
    "        a bar plot of the new cases and a line plot of the growth rate \"\"\"\n",
    "    \n",
    "    if not ax:\n",
    "        fig, ax = plt.subplots(figsize=(10,7))\n",
    "        ax.set_title(title)\n",
    "    b_width = 0.3 if bar_offset else 0.8\n",
    "    ax.plot(serie.index , serie, label=lab, color=color, marker='.', alpha=alpha)\n",
    "    if bar_plot:\n",
    "        ax.bar(serie.index, serie.diff(), width = b_width, color=color, alpha=alpha)\n",
    "    \n",
    "    if log:\n",
    "        ax.set_yscale('log')"
   ]
  },
  {
   "cell_type": "code",
   "execution_count": 8,
   "metadata": {
    "Collapsed": "false"
   },
   "outputs": [],
   "source": [
    "def plot_country_comparison(data, bar_plot=True, start=None, title=None, \n",
    "                            dates = None, limits=None, log = False, alpha=None, figsize=None):\n",
    "    \n",
    "    \"\"\" Build a plot comparing the progression of multiple countres with various options \"\"\"\n",
    "    \n",
    "    ## Build the plot frame\n",
    "    fig, ax = plt.subplots(figsize=(15,15) if figsize is None else figsize)\n",
    "    offset = 0.15\n",
    "    if title is not None: ax.set_title(title, fontsize=14, loc='left', pad=10)\n",
    "    \n",
    "    #### Draw the different plots\n",
    "    ymin = 1000\n",
    "    for lbl in data.keys():\n",
    "        serie, color, alpha = data[lbl]\n",
    "        tri_plot(serie, ax = ax, bar_plot=bar_plot,bar_offset = -offset, lab=lbl, color=color, log=log, alpha=alpha)\n",
    "        tymin = serie[serie.index > start].min()\n",
    "        if tymin < ymin:\n",
    "            ymin = tymin\n",
    "            \n",
    "    ## Configure axis labels\n",
    "    ax.set_ylabel('Count' if not log else 'Count (log)')\n",
    "    ax.set_xlabel('Dates')\n",
    "    s = data[list(data.keys())[0]][0]\n",
    "    ax.set_xticks(s.index)\n",
    "    ax.set_xticklabels([str(d)[:10] for d in s.index], rotation=90)\n",
    "    ax.set_xlim(start, str(s.index.max()))\n",
    "    ax.set_ylim(ymin+10, ax.get_ylim()[-1])\n",
    "\n",
    "    if log:\n",
    "        ## Add comparison line for exponential growth\n",
    "        s2 = s[s.index>=start]\n",
    "        ymin2 = s2.min()\n",
    "        n = len(s2)\n",
    "        y = [ymin2 * 2**(i/3) for i in np.arange(1, 1+n, 1)]\n",
    "        ax.plot(s2.index, y, linestyle='-.', color='Cyan', label='Growth: Double cases every 3 days')\n",
    "    \n",
    "    ## Add date markers\n",
    "    if dates is not None:\n",
    "        for d in dates.keys():\n",
    "            lbl = dates[d][0]\n",
    "            col = dates[d][1]\n",
    "            ax.axvline( x=d, linestyle=':', color = col , linewidth=1)\n",
    "            y = ax.get_ylim()[1]\n",
    "            ax.annotate( lbl, xy=( d, y), color=col, fontsize=12, rotation=45)\n",
    "    \n",
    "    ## Add Amount limits\n",
    "    if limits is not None:\n",
    "        for l in limits.keys():\n",
    "            lbl = limits[l][0]\n",
    "            col = limits[l][1]\n",
    "            y = l\n",
    "            ax.axhline(y = y, color = col, linewidth=.4 )\n",
    "            ax.annotate(lbl, xy=(start , y), color=col, fontsize=12)\n",
    "    \n",
    "    ax.legend(fontsize=14)\n",
    "    fig.tight_layout()"
   ]
  },
  {
   "cell_type": "markdown",
   "metadata": {
    "Collapsed": "false"
   },
   "source": [
    "## Compare confirmed Cases with gouv decisions"
   ]
  },
  {
   "cell_type": "code",
   "execution_count": 16,
   "metadata": {
    "Collapsed": "false"
   },
   "outputs": [
    {
     "data": {
      "application/vnd.jupyter.widget-view+json": {
       "model_id": "5ed35336fd5147cf9ee7d9141c96b43a",
       "version_major": 2,
       "version_minor": 0
      },
      "text/plain": [
       "Canvas(toolbar=Toolbar(toolitems=[('Home', 'Reset original view', 'home', 'home'), ('Back', 'Back to previous …"
      ]
     },
     "metadata": {},
     "output_type": "display_data"
    }
   ],
   "source": [
    "start = '2020-02-22'\n",
    "\n",
    "data = {'Italy':[ecdc_it['ConfCases'].shift(0),'b',1],\n",
    "        'France':[ecdc_fr['ConfCases'].shift(0),'r',1],\n",
    "        #'Spain':[ecdc_sp['ConfCases'].shift(0),'g',1],\n",
    "        #'Germany':[ecdc_ge['ConfCases'].shift(0),'c',1],\n",
    "        'USA':[ecdc_us['ConfCases'].shift(0),'m',1],\n",
    "        'Canada':[ecdc_ca['ConfCases'].shift(0),'k',1]}\n",
    "\n",
    "dates = {'2020-03-04':['Italy closes Schools', 'b'],\n",
    "         '2020-03-08':['Italy lockdown', 'b'],\n",
    "         '2020-03-14':['France closes Schools', 'r'],\n",
    "         '2020-03-15':['France lockdown', 'r'],\n",
    "         '2020-03-16':['Canada closes Shops', 'k'],}\n",
    "\n",
    "plot_country_comparison(data, bar_plot=False, start=start, title='COVID19 Confirmed cases and events', \n",
    "                        dates = dates, limits=None, log = False, alpha=None, figsize=(15,10))"
   ]
  },
  {
   "cell_type": "markdown",
   "metadata": {
    "Collapsed": "false"
   },
   "source": [
    "## Compare confirmed Cases with beds amount in countries (log scale)"
   ]
  },
  {
   "cell_type": "code",
   "execution_count": 17,
   "metadata": {
    "Collapsed": "false"
   },
   "outputs": [
    {
     "data": {
      "application/vnd.jupyter.widget-view+json": {
       "model_id": "574a5fae01bd43dc872d171d97085230",
       "version_major": 2,
       "version_minor": 0
      },
      "text/plain": [
       "Canvas(toolbar=Toolbar(toolitems=[('Home', 'Reset original view', 'home', 'home'), ('Back', 'Back to previous …"
      ]
     },
     "metadata": {},
     "output_type": "display_data"
    }
   ],
   "source": [
    "start = '2020-02-22'\n",
    "\n",
    "data = {'Italy':[ecdc_it['ConfCases'].shift(0),'b',1],\n",
    "        'France':[ecdc_fr['ConfCases'].shift(0),'r',1],\n",
    "        #'Spain':[ecdc_sp['ConfCases'].shift(0),'g',1],\n",
    "        #'Germany':[ecdc_ge['ConfCases'].shift(0),'c',1],\n",
    "        'USA':[ecdc_us['ConfCases'].shift(0),'m',1],\n",
    "        'Canada':[ecdc_ca['ConfCases'].shift(0),'k',1]}\n",
    "\n",
    "dates = {'2020-03-04':['Italy closes Schools', 'b'],\n",
    "         '2020-03-08':['Italy lockdown', 'b'],\n",
    "         '2020-03-14':['France closes Schools', 'g'],\n",
    "         '2020-03-15':['France lockdown', 'g']}\n",
    "\n",
    "limits = {3.18*1000 : ['Italy beds (3.18 per 1Kha - OCDE 2017)', 'b'],\n",
    "          5.98*1000 : ['France beds (5.98 per 1Kha - OCDE 2017)', 'r'],\n",
    "          #2.97*1000 : ['Spain beds (2.97 per 1Kha - OCDE 2017)', 'g'],\n",
    "          #8.00*1000 : ['Germany beds (8.00 per 1Kha - OCDE 2017)', 'c'],\n",
    "          2.77*1000 : ['USA beds (2.77 per 1Kha - OCDE 2016)', 'm'],\n",
    "          2.52*1000 : ['Canada beds (2.52 per 1Kha - OCDE 2017)', 'k']}\n",
    "\n",
    "plot_country_comparison(data, bar_plot=False, start=start, title='COVID19 Confirmed cases and bed counts\\n(on logarithmic scale)', \n",
    "                        dates = dates, limits=limits, log = True, alpha=None, figsize=(15,15))"
   ]
  },
  {
   "cell_type": "markdown",
   "metadata": {
    "Collapsed": "false"
   },
   "source": [
    "## Compare deaths with the dates where cases number exceeded bed counts"
   ]
  },
  {
   "cell_type": "code",
   "execution_count": 18,
   "metadata": {
    "Collapsed": "false"
   },
   "outputs": [
    {
     "data": {
      "application/vnd.jupyter.widget-view+json": {
       "model_id": "5a9aa8ed77e342099ca5bb0278eaf042",
       "version_major": 2,
       "version_minor": 0
      },
      "text/plain": [
       "Canvas(toolbar=Toolbar(toolitems=[('Home', 'Reset original view', 'home', 'home'), ('Back', 'Back to previous …"
      ]
     },
     "metadata": {},
     "output_type": "display_data"
    }
   ],
   "source": [
    "start = '2020-02-24'\n",
    "\n",
    "data = {'Italy':[ecdc_it['Deaths'].shift(0),'b',1],\n",
    "        'France':[ecdc_fr['Deaths'].shift(0),'r',1],\n",
    "        'Spain':[ecdc_sp['Deaths'].shift(0),'g',1],}\n",
    "        #'Germany':[ecdc_ge['Deaths'].shift(0),'c',1],\n",
    "        #'USA':[ecdc_us['Deaths'].shift(0),'m',1],}\n",
    "        #'Canada':[ecdc_ca['Deaths'].shift(0),'k',1]}\n",
    "\n",
    "dates = {'2020-03-05':['Italy cases\\nexceeds beds ratio', 'b'],\n",
    "         '2020-03-13':['Spain cases\\nexceeds beds ratio', 'g'],\n",
    "         '2020-03-16':['France cases\\nexceeds beds ratio', 'r'],}\n",
    "         #'2020-03-14':['USA cases\\nexceeds beds ratio', 'm']}\n",
    "\n",
    "plot_country_comparison(data, bar_plot=False, start=start, title='COVID19 deaths and chronology', \n",
    "                        dates = dates, log = False, alpha=None, figsize=(15,10))"
   ]
  },
  {
   "cell_type": "markdown",
   "metadata": {
    "Collapsed": "false"
   },
   "source": [
    "## Compare Italy and France with an offset of 8 days (confirmed cases)"
   ]
  },
  {
   "cell_type": "code",
   "execution_count": 19,
   "metadata": {
    "Collapsed": "false"
   },
   "outputs": [
    {
     "data": {
      "application/vnd.jupyter.widget-view+json": {
       "model_id": "dc73365e3dc442b7a462d372252ff5f6",
       "version_major": 2,
       "version_minor": 0
      },
      "text/plain": [
       "Canvas(toolbar=Toolbar(toolitems=[('Home', 'Reset original view', 'home', 'home'), ('Back', 'Back to previous …"
      ]
     },
     "metadata": {},
     "output_type": "display_data"
    }
   ],
   "source": [
    "start = '2020-02-24'\n",
    "\n",
    "data = {'Italy':[ecdc_it['ConfCases'].shift(0),'b',1],\n",
    "        'France':[ecdc_fr['ConfCases'].shift(-8),'r',1]}\n",
    "\n",
    "dates = {'2020-03-04':['Italy closes Schools', 'b'],\n",
    "         '2020-03-08':['Italy lockdown', 'b'],\n",
    "         '2020-03-09':['France lockdown', 'g']}\n",
    "\n",
    "limits = {3.18*1000 : ['Italy beds (3.18 per 1Kha - OCDE 2017)', 'b'],\n",
    "          5.98*1000 : ['France beds (5.98 per 1Kha - OCDE 2017)', 'r']}\n",
    "\n",
    "plot_country_comparison(data, bar_plot=False, start=start, title='France aligned to Italy (8 days offset)\\nConfirmed cases', \n",
    "                        dates = dates, limits=limits, log = False, alpha=None, figsize=(15,10))"
   ]
  },
  {
   "cell_type": "code",
   "execution_count": 20,
   "metadata": {
    "Collapsed": "false"
   },
   "outputs": [
    {
     "data": {
      "application/vnd.jupyter.widget-view+json": {
       "model_id": "4150425f127e4e06a09a422162e2a7a4",
       "version_major": 2,
       "version_minor": 0
      },
      "text/plain": [
       "Canvas(toolbar=Toolbar(toolitems=[('Home', 'Reset original view', 'home', 'home'), ('Back', 'Back to previous …"
      ]
     },
     "metadata": {},
     "output_type": "display_data"
    }
   ],
   "source": [
    "start = '2020-02-24'\n",
    "\n",
    "data = {'Italy':[ecdc_it['Deaths'].shift(0),'b',1],\n",
    "        'France':[ecdc_fr['Deaths'].shift(-8),'r',1]}\n",
    "\n",
    "dates = {'2020-03-04':['Italy closes Schools', 'b'],\n",
    "         '2020-03-08':['Italy lockdown', 'b'],\n",
    "         '2020-03-09':['France lockdown', 'g']}\n",
    "\n",
    "plot_country_comparison(data, bar_plot=False, start=start, title='France aligned to Italy (8 days offset)\\nDeaths', \n",
    "                        dates = dates, limits=None, log = False, alpha=None, figsize=(15,10))"
   ]
  },
  {
   "cell_type": "code",
   "execution_count": null,
   "metadata": {
    "Collapsed": "false"
   },
   "outputs": [],
   "source": []
  }
 ],
 "metadata": {
  "kernelspec": {
   "display_name": "Python [conda env:fastai1] *",
   "language": "python",
   "name": "conda-env-fastai1-py"
  },
  "language_info": {
   "codemirror_mode": {
    "name": "ipython",
    "version": 3
   },
   "file_extension": ".py",
   "mimetype": "text/x-python",
   "name": "python",
   "nbconvert_exporter": "python",
   "pygments_lexer": "ipython3",
   "version": "3.7.0"
  }
 },
 "nbformat": 4,
 "nbformat_minor": 4
}
